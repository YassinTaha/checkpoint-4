{
  "nbformat": 4,
  "nbformat_minor": 0,
  "metadata": {
    "colab": {
      "provenance": []
    },
    "kernelspec": {
      "name": "python3",
      "display_name": "Python 3"
    },
    "language_info": {
      "name": "python"
    }
  },
  "cells": [
    {
      "cell_type": "code",
      "source": [
        "#question 1\n",
        "a=20\n",
        "b=35\n",
        "c=19\n",
        "\n",
        "print(max(a, b, c))\n"
      ],
      "metadata": {
        "id": "P4p4qQ71PCW6",
        "colab": {
          "base_uri": "https://localhost:8080/"
        },
        "outputId": "42e1bbe3-3850-4d3b-b342-6a49eb795ba1"
      },
      "execution_count": 1,
      "outputs": [
        {
          "output_type": "stream",
          "name": "stdout",
          "text": [
            "35\n"
          ]
        }
      ]
    },
    {
      "cell_type": "code",
      "source": [
        "#question 2\n",
        "import math\n",
        "x=40\n",
        "y=10\n",
        "z= x+y\n",
        "n= x-y\n",
        "print(z, n)\n"
      ],
      "metadata": {
        "id": "d_trl-CJS-bf",
        "colab": {
          "base_uri": "https://localhost:8080/"
        },
        "outputId": "dccf69a4-5d1d-4bed-83bf-080027eb1547"
      },
      "execution_count": 2,
      "outputs": [
        {
          "output_type": "stream",
          "name": "stdout",
          "text": [
            "50 30\n"
          ]
        }
      ]
    },
    {
      "cell_type": "code",
      "source": [
        "#question 3\n",
        "\n",
        "list1 = [1, 2, 3, 4, 5, 6, 7, 8, 9, 10]\n",
        "\n",
        "odd = []\n",
        "even = []\n",
        "\n",
        "for i in range(len(list1)):\n",
        "  if i % 2==0:\n",
        "    even.append(list1[i])\n",
        "  else:\n",
        "    odd.append(list1[i])\n",
        "\n",
        "\n",
        "\n",
        "def ads(ar):\n",
        "  result = 0\n",
        "  for i in ar:\n",
        "    result += i\n",
        "\n",
        "  return result \n",
        "\n",
        "def ams(am):\n",
        "  result = 0\n",
        "  for i in am:\n",
        "    result *= i\n",
        "\n",
        "  return result \n",
        "\n",
        "print(ads(even))\n",
        "print(ams(odd))"
      ],
      "metadata": {
        "id": "XvFjiCSpuBTK",
        "colab": {
          "base_uri": "https://localhost:8080/"
        },
        "outputId": "c0cc95c7-35d6-4458-c328-32aeb99fcd64"
      },
      "execution_count": null,
      "outputs": [
        {
          "output_type": "stream",
          "name": "stdout",
          "text": [
            "25\n",
            "0\n"
          ]
        }
      ]
    },
    {
      "cell_type": "code",
      "source": [
        "#question 4\n",
        "n=input().split(\"-\")\n",
        "\n",
        "n.sort()\n",
        "\n",
        "print(\"-\".join(n))"
      ],
      "metadata": {
        "id": "qB_d4hSDvyiG",
        "colab": {
          "base_uri": "https://localhost:8080/"
        },
        "outputId": "7cca7a5e-0030-4351-f19b-c6b0d1f886ad"
      },
      "execution_count": 44,
      "outputs": [
        {
          "output_type": "stream",
          "name": "stdout",
          "text": [
            "green-red-yellow-black-white\n",
            "black-green-red-white-yellow\n"
          ]
        }
      ]
    },
    {
      "cell_type": "code",
      "source": [
        "#question 5, dont understand\n",
        "def eq(a):\n",
        "  return ((2*50*a)/30)**0.5\n",
        "\n",
        "x = input().split(\",\")\n",
        "\n",
        "for i in x:\n",
        "  print(int(eq(int(i))),end = \",\")\n"
      ],
      "metadata": {
        "id": "Z-HC_zpHx2VF",
        "colab": {
          "base_uri": "https://localhost:8080/"
        },
        "outputId": "f62941db-1dec-450d-ae42-08ab3497e1ad"
      },
      "execution_count": 70,
      "outputs": [
        {
          "output_type": "stream",
          "name": "stdout",
          "text": [
            "100,150,180\n",
            "18,22,24,"
          ]
        }
      ]
    },
    {
      "cell_type": "code",
      "source": [
        "\n"
      ],
      "metadata": {
        "id": "9LlxYGLX3L5n"
      },
      "execution_count": null,
      "outputs": []
    }
  ]
}